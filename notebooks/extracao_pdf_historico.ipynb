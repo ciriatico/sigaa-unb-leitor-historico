{
 "cells": [
  {
   "cell_type": "code",
   "execution_count": 1,
   "metadata": {},
   "outputs": [],
   "source": [
    "import fitz"
   ]
  },
  {
   "cell_type": "code",
   "execution_count": 2,
   "metadata": {},
   "outputs": [],
   "source": [
    "filename = \"/home/ciri/Desktop/sofia/unb/semestres/2022.2/SI/trabalho/pratica/historico_202033202.pdf\""
   ]
  },
  {
   "cell_type": "code",
   "execution_count": 3,
   "metadata": {},
   "outputs": [],
   "source": [
    "doc = fitz.open(filename)"
   ]
  },
  {
   "cell_type": "code",
   "execution_count": 8,
   "metadata": {},
   "outputs": [],
   "source": [
    "page = doc.load_page(1)"
   ]
  },
  {
   "cell_type": "code",
   "execution_count": 9,
   "metadata": {},
   "outputs": [
    {
     "data": {
      "text/plain": [
       "page 1 of /home/ciri/Desktop/sofia/unb/semestres/2022.2/SI/trabalho/pratica/historico_202033202.pdf"
      ]
     },
     "execution_count": 9,
     "metadata": {},
     "output_type": "execute_result"
    }
   ],
   "source": [
    "page"
   ]
  },
  {
   "cell_type": "code",
   "execution_count": 10,
   "metadata": {},
   "outputs": [],
   "source": [
    "text = page.get_text()"
   ]
  },
  {
   "cell_type": "code",
   "execution_count": 20,
   "metadata": {},
   "outputs": [],
   "source": [
    "cump_2 = text.split(\"Nota\\n\")[1].split(\"Componentes Curriculares Obrigatórios Pendentes\")[0]"
   ]
  },
  {
   "cell_type": "code",
   "execution_count": 24,
   "metadata": {},
   "outputs": [
    {
     "data": {
      "text/plain": [
       "['2021.1', 'REDES DE COMPUTADORES', 'B', 'APR', 'CIC0124', '60', '100,0', 'MM']"
      ]
     },
     "execution_count": 24,
     "metadata": {},
     "output_type": "execute_result"
    }
   ],
   "source": [
    "cump_2.split(\"\\n\")[0:8]"
   ]
  },
  {
   "cell_type": "code",
   "execution_count": 25,
   "metadata": {},
   "outputs": [
    {
     "data": {
      "text/plain": [
       "['TEORIA E APLICAÇÃO DE GRAFOS', 'A', 'APR', 'CIC0199', '60', '100,0', 'MS']"
      ]
     },
     "execution_count": 25,
     "metadata": {},
     "output_type": "execute_result"
    }
   ],
   "source": [
    "cump_2.split(\"\\n\")[9:16]"
   ]
  },
  {
   "cell_type": "code",
   "execution_count": 21,
   "metadata": {},
   "outputs": [
    {
     "name": "stdout",
     "output_type": "stream",
     "text": [
      "2021.1\n",
      "REDES DE COMPUTADORES\n",
      "B\n",
      "APR\n",
      "CIC0124\n",
      "60\n",
      "100,0\n",
      "MM\n",
      "2021.1\n",
      "TEORIA E APLICAÇÃO DE GRAFOS\n",
      "A\n",
      "APR\n",
      "CIC0199\n",
      "60\n",
      "100,0\n",
      "MS\n",
      "2021.1\n",
      "CIRCUITOS LÓGICOS\n",
      "AB\n",
      "APR\n",
      "CIC0229\n",
      "60\n",
      "100,0\n",
      "SS\n",
      "2021.1\n",
      "LABORATÓRIO DE CIRCUITOS LÓGICOS\n",
      "D\n",
      "APR\n",
      "CIC0231\n",
      "30\n",
      "93,0\n",
      "SS\n",
      "2021.1\n",
      "MONITORIA\n",
      "--\n",
      "CUMP\n",
      "DEG0199\n",
      "30\n",
      "100,0\n",
      "-\n",
      "#\n",
      "2021.1\n",
      "CALCULO NUMERICO\n",
      "A\n",
      "APR\n",
      "MAT0053\n",
      "60\n",
      "100,0\n",
      "MS\n",
      "2021.2\n",
      "BANCOS DE DADOS\n",
      "A\n",
      "APR\n",
      "CIC0097\n",
      "60\n",
      "100,0\n",
      "SS\n",
      "2021.2\n",
      "ORGANIZAÇÃO E ARQUITETURA DE COMPUTADORES\n",
      "A\n",
      "APR\n",
      "CIC0099\n",
      "60\n",
      "100,0\n",
      "MS\n",
      "e\n",
      "2021.2\n",
      "LÓGICA COMPUTACIONAL 1\n",
      "C\n",
      "APR\n",
      "CIC0182\n",
      "60\n",
      "100,0\n",
      "MS\n",
      "2021.2\n",
      "MONITORIA EM TEORIA E APLICAÇÃO DE GRAFOS\n",
      "--\n",
      "APR\n",
      "CIC0418\n",
      "30\n",
      "--\n",
      "--\n",
      "#\n",
      "2021.2\n",
      "ALGEBRA 1\n",
      "C\n",
      "APR\n",
      "MAT0034\n",
      "60\n",
      "96,0\n",
      "MS\n",
      "2022.1\n",
      "LINGUAGENS DE PROGRAMACAO\n",
      "02\n",
      "APR\n",
      "CIC0093\n",
      "60\n",
      "100,0\n",
      "MM\n",
      "2022.1\n",
      "ENGENHARIA DE SOFTWARE\n",
      "01\n",
      "APR\n",
      "CIC0105\n",
      "60\n",
      "84,0\n",
      "MS\n",
      "2022.1\n",
      "INTRODUCAO A INTELIGENCIA ARTIFICIAL\n",
      "01\n",
      "APR\n",
      "CIC0135\n",
      "60\n",
      "100,0\n",
      "SS\n",
      "2022.1\n",
      "FUNDAMENTOS DE SISTEMAS INTELIGENTES\n",
      "01\n",
      "APR\n",
      "CIC0193\n",
      "60\n",
      "83,0\n",
      "MS\n",
      "*\n",
      "2022.1\n",
      "TECNICAS DE PROGRAMAÇÃO 2\n",
      "01\n",
      "APR\n",
      "CIC0198\n",
      "60\n",
      "100,0\n",
      "SS\n",
      "2022.2\n",
      "SISTEMAS DE INFORMACAO\n",
      "01\n",
      "MATR\n",
      "CIC0101\n",
      "60\n",
      "100,0\n",
      "-\n",
      "2022.2\n",
      "SOFTWARE BASICO\n",
      "02\n",
      "MATR\n",
      "CIC0104\n",
      "60\n",
      "100,0\n",
      "-\n",
      "2022.2\n",
      "SEGURANÇA COMPUTACIONAL\n",
      "02\n",
      "MATR\n",
      "CIC0201\n",
      "60\n",
      "100,0\n",
      "-\n",
      "2022.2\n",
      "PROGRAMAÇÃO CONCORRENTE\n",
      "01\n",
      "MATR\n",
      "CIC0202\n",
      "60\n",
      "100,0\n",
      "-\n",
      "\n"
     ]
    }
   ],
   "source": [
    "print(cump_2)"
   ]
  },
  {
   "cell_type": "code",
   "execution_count": null,
   "metadata": {},
   "outputs": [],
   "source": []
  }
 ],
 "metadata": {
  "kernelspec": {
   "display_name": "Python 3",
   "language": "python",
   "name": "python3"
  },
  "language_info": {
   "codemirror_mode": {
    "name": "ipython",
    "version": 3
   },
   "file_extension": ".py",
   "mimetype": "text/x-python",
   "name": "python",
   "nbconvert_exporter": "python",
   "pygments_lexer": "ipython3",
   "version": "3.8.10"
  }
 },
 "nbformat": 4,
 "nbformat_minor": 4
}
